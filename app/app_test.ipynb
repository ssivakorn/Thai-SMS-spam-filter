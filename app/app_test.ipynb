{
 "cells": [
  {
   "cell_type": "code",
   "execution_count": 1,
   "id": "2acc4acc-467d-48fe-9957-7a6531f934c2",
   "metadata": {},
   "outputs": [],
   "source": [
    "import os\n",
    "import sys\n",
    "from tensorflow.keras import models\n",
    "import tensorflow as tf\n",
    "import numpy as np\n",
    "import json\n",
    "\n",
    "parent_dir = os.path.abspath(os.path.join(os.path.dirname(__file__), '..'))\n",
    "sys.path.append(parent_dir)"
   ]
  },
  {
   "cell_type": "markdown",
   "id": "37fef61c-bb81-441e-b5f4-ad24b0d8210a",
   "metadata": {},
   "source": [
    "# Import trained model"
   ]
  },
  {
   "cell_type": "code",
   "execution_count": 2,
   "id": "54e8cc0e-b695-478f-8028-30f791539460",
   "metadata": {},
   "outputs": [],
   "source": [
    "model_path = os.path.join(parent_dir, 'train', 'models')\n",
    "model = models.load_model(os.path.join(model_path, 'Dense_seqpad.h5'))"
   ]
  },
  {
   "cell_type": "code",
   "execution_count": 3,
   "id": "8630e30b-2e2b-4c91-9fcd-eec9a298ea23",
   "metadata": {},
   "outputs": [],
   "source": [
    "probability_model = tf.keras.Sequential([model, \n",
    "                                         tf.keras.layers.Softmax()])"
   ]
  },
  {
   "cell_type": "code",
   "execution_count": 4,
   "id": "938147c9-d1a9-42c5-b736-8b6be916928d",
   "metadata": {},
   "outputs": [],
   "source": [
    "config_file = os.path.join(model_path, 'configure.json')\n",
    "with open(config_file, 'r', encoding='utf8') as fp:\n",
    "    config = json.load(fp)\n",
    "    \n",
    "    \n",
    "labels = dict()\n",
    "for k,v in config.get('labels').items():\n",
    "    v = int(v)\n",
    "    if v in labels:\n",
    "        labels[v] = f'{labels[v]}/{k}' # OK/OTP\n",
    "    else:\n",
    "        labels[v] = k"
   ]
  },
  {
   "cell_type": "code",
   "execution_count": 5,
   "id": "70a2f3b7-bfd7-4c6e-8b2b-abf11b85af8a",
   "metadata": {},
   "outputs": [
    {
     "data": {
      "text/plain": [
       "{0: 'OK/OTP', 2: 'scam', 1: 'spam'}"
      ]
     },
     "execution_count": 5,
     "metadata": {},
     "output_type": "execute_result"
    }
   ],
   "source": [
    "labels"
   ]
  },
  {
   "cell_type": "code",
   "execution_count": 6,
   "id": "e136ceb3-4aeb-4ecf-a86a-dd835efcf84b",
   "metadata": {},
   "outputs": [],
   "source": [
    "examples = [\n",
    "    'รหัส OTP สำหรับการยืนยันตัวตนของคุณสำหรับการใช้งาน GHB All คือ 318266 หมายเลขอ้างอิง IDN239S',\n",
    "    'คุณได้SMSนี้ รับ100฿ ไม่ต้องแชร์ คลิก https://llonp9.co/n/8cCwo5mB',\n",
    "    'รหัส OTP เพื่อยืนยันการปรับวงเงินการทำรายการรายวันของคุณคือ 97032 ห้ามบอกรหัสนี้แก่บุคคลอื่น',\n",
    "    'มีการเปิดใช้งาน (Activate) MyMo เมื่อวันที่ 20/08/64 เวลา 14.32 น. หากท่านไม่ได้ทำรายการโปรดติดต่อ 1143 ทันที',\n",
    "    'เนื่องจากคุณเป็นผู้ใช้ติ๊กต็อกที่มีประวัติที่ดี คุณได้รับเงินสดจากทาง ติ๊กต็อก แอดLine: wtt9',\n",
    "    'รายการสั่งซื้อของท่าน IKEA หมายเลข W017-21112221 ของท่านจะถูกจัดส่งโดย MW_ST9997 STORE ในวันที่ 19-01-2023  ในช่วงเวลา  09:00 -12:00.หากมีข้อสงสัยกรุณาสอบถาม 02 708 7999 หรือ อีเมล์ customerrelations.ikeath@ikano.asia.Your IKEA order W017-21112221 will be delivered by MW_ST9997 STORE on 19-01-2023  between  09:00 -12:00.Need help Call 02 708 7999 or email customerrelations.ikeath@ikano.asia',\n",
    "    'KINGKONG555 ไม่แตกเว็บอื่น มาลองเว็บเรา กำลังแจก https://bit.ly/kk557',\n",
    "    'ปรับค่าแตกให้สูงกว่า เฉพาะสิ้นเดือนเท่านั้น คลิก bit.ly/3LeuScU',\n",
    "    'PGGOLD แตกหนักไม่เกรงใจใคร ฝากมาเลย แตกจริง99% https://bit.ly/glo33',\n",
    "    'Weplay168 ไม่แตกเว็บอื่นมาลองเว็บเรากำลังแจก ด่วน https://bit.ly/wev33',\n",
    "    'ยูสใหม่โอกาสชนะกว่า90% เว็Uตรงไม่อั้นถอน https://bit.ly/pao13',\n",
    "    'ถอนกี่ครั้งก็ได้ ถอนได้ไม่อั้น เว็บตรง Pao168 https://bit.ly/pao13',\n",
    "]"
   ]
  },
  {
   "cell_type": "markdown",
   "id": "b9201ebd-9337-4edc-b0e7-a51a287c3b54",
   "metadata": {},
   "source": [
    "# Predict"
   ]
  },
  {
   "cell_type": "code",
   "execution_count": 7,
   "id": "ecb665e3-e6f2-4c41-8521-684c3f7ea133",
   "metadata": {},
   "outputs": [
    {
     "name": "stdout",
     "output_type": "stream",
     "text": [
      "3.0.8\n"
     ]
    }
   ],
   "source": [
    "from helper import textutils"
   ]
  },
  {
   "cell_type": "markdown",
   "id": "41018b27-039c-44fa-8a3c-efb78fa5d85f",
   "metadata": {},
   "source": [
    "## Example of Sequence and Padding"
   ]
  },
  {
   "cell_type": "code",
   "execution_count": 8,
   "id": "7b87bf0b-3621-44da-81e1-da7834f21a7c",
   "metadata": {
    "tags": []
   },
   "outputs": [
    {
     "name": "stderr",
     "output_type": "stream",
     "text": [
      "Found word not in word_index: word=idn\n"
     ]
    },
    {
     "name": "stdout",
     "output_type": "stream",
     "text": [
      "รหัส OTP สำหรับการยืนยันตัวตนของคุณสำหรับการใช้งาน GHB All คือ 318266 หมายเลขอ้างอิง IDN239S\n",
      "รหัส OTP สำหรับการยืนยันตัวตนของคุณสำหรับการใช้งาน GHB All คือ 318266 หมายเลขอ้างอิง IDN239S\n",
      "['รหัส', 'otp', 'สำหรับ', 'การ', 'ยืนยัน', 'ตัวตน', 'ของ', 'คุณ', 'สำหรับ', 'การใช้งาน', 'ghb', 'all', 'คือ', 'หมายเลข', 'อ้างอิง', 'idn', 's']\n",
      "\n",
      "1/1 [==============================] - 0s 132ms/step\n",
      "OK/OTP\n",
      "\n",
      "คุณได้SMSนี้ รับ100฿ ไม่ต้องแชร์ คลิก https://llonp9.co/n/8cCwo5mB\n",
      "คุณได้SMSนี้ รับ100฿ ไม่ต้องแชร์ คลิก <LINK>\n",
      "['คุณ', 'ได้', 'sms', 'นี้', 'รับ', 'บาท', 'ไม่ต้อง', 'แชร์', 'คลิก', '<LINK>']\n",
      "\n",
      "1/1 [==============================] - 0s 38ms/step\n",
      "scam\n",
      "\n",
      "รหัส OTP เพื่อยืนยันการปรับวงเงินการทำรายการรายวันของคุณคือ 97032 ห้ามบอกรหัสนี้แก่บุคคลอื่น\n",
      "รหัส OTP เพื่อยืนยันการปรับวงเงินการทำรายการรายวันของคุณคือ 97032 ห้ามบอกรหัสนี้แก่บุคคลอื่น\n",
      "['รหัส', 'otp', 'เพื่อ', 'ยืนยัน', 'การ', 'ปรับ', 'วงเงิน', 'การ', 'ทำ', 'รายการ', 'รายวัน', 'ของ', 'คุณ', 'คือ', 'ห้าม', 'บอก', 'รหัส', 'นี้', 'แก่', 'บุคคล', 'อื่น']\n",
      "\n",
      "1/1 [==============================] - 0s 36ms/step\n",
      "OK/OTP\n",
      "\n",
      "มีการเปิดใช้งาน (Activate) MyMo เมื่อวันที่ 20/08/64 เวลา 14.32 น. หากท่านไม่ได้ทำรายการโปรดติดต่อ 1143 ทันที\n",
      "มีการเปิดใช้งาน (Activate) MyMo เมื่อวันที่ 20/08/64 เวลา 14.32 น. หากท่านไม่ได้ทำรายการโปรดติดต่อ 1143 ทันที\n",
      "['มี', 'การ', 'เปิด', 'ใช้งาน', 'activate', 'mymo', 'เมื่อ', 'วันที่', 'เวลา', 'น', 'หาก', 'ท่าน', 'ไม่', 'ได้', 'ทำ', 'รายการ', 'โปรด', 'ติดต่อ', 'ทันที']\n",
      "\n",
      "1/1 [==============================] - 0s 42ms/step\n"
     ]
    },
    {
     "name": "stderr",
     "output_type": "stream",
     "text": [
      "Found word not in word_index: word=wtt\n"
     ]
    },
    {
     "name": "stdout",
     "output_type": "stream",
     "text": [
      "OK/OTP\n",
      "\n",
      "เนื่องจากคุณเป็นผู้ใช้ติ๊กต็อกที่มีประวัติที่ดี คุณได้รับเงินสดจากทาง ติ๊กต็อก แอดLine: wtt9\n",
      "เนื่องจากคุณเป็นผู้ใช้ติ๊กต็อกที่มีประวัติที่ดี คุณได้รับเงินสดจากทาง ติ๊กต็อก แอดLine: wtt9\n",
      "['เนื่องจาก', 'คุณ', 'เป็น', 'ผู้ใช้', 'ติ๊ก', 'ต็อก', 'ที่', 'มีประวัติ', 'ที่', 'ดี', 'คุณ', 'ได้รับ', 'เงินสด', 'จาก', 'ทาง', 'ติ๊ก', 'ต็อก', 'แอด', 'line', 'wtt']\n",
      "\n",
      "1/1 [==============================] - 0s 41ms/step\n"
     ]
    },
    {
     "name": "stderr",
     "output_type": "stream",
     "text": [
      "Found word not in word_index: word=mw\n",
      "Found word not in word_index: word=st\n",
      "Found word not in word_index: word=delivered\n",
      "Found word not in word_index: word=mw\n",
      "Found word not in word_index: word=st\n",
      "Found word not in word_index: word=between\n"
     ]
    },
    {
     "name": "stdout",
     "output_type": "stream",
     "text": [
      "scam\n",
      "\n",
      "รายการสั่งซื้อของท่าน IKEA หมายเลข W017-21112221 ของท่านจะถูกจัดส่งโดย MW_ST9997 STORE ในวันที่ 19-01-2023  ในช่วงเวลา  09:00 -12:00.หากมีข้อสงสัยกรุณาสอบถาม 02 708 7999 หรือ อีเมล์ customerrelations.ikeath@ikano.asia.Your IKEA order W017-21112221 will be delivered by MW_ST9997 STORE on 19-01-2023  between  09:00 -12:00.Need help Call 02 708 7999 or email customerrelations.ikeath@ikano.asia\n",
      "รายการสั่งซื้อของท่าน IKEA หมายเลข W017-21112221 ของท่านจะถูกจัดส่งโดย MW_ST9997 STORE ในวันที่ 19-01-2023 ในช่วงเวลา 09:00 -12:00.หากมีข้อสงสัยกรุณาสอบถาม 02 708 7999 หรือ อีเมล์ <LINK> @ <LINK> IKEA order W017-21112221 will be delivered by MW_ST9997 STORE on 19-01-2023 between 09:00 -12: <LINK> help Call 02 708 7999 or email <LINK> @ <LINK>\n",
      "['ราย', 'การสั่งซื้อ', 'ของ', 'ท่าน', 'ikea', 'หมายเลข', 'w', 'ของ', 'ท่าน', 'จะ', 'ถูก', 'จัดส่ง', 'โดย', 'mw', 'st', 'store', 'ใน', 'วันที่', 'ใน', 'ช่วงเวลา', 'หาก', 'มี', 'ข้อสงสัย', 'กรุณา', 'สอบถาม', 'หรือ', 'อีเมล์', '<LINK>', '<LINK>', 'ikea', 'order', 'w', 'will', 'be', 'delivered', 'by', 'mw', 'st', 'store', 'on', 'between', '<LINK>', 'help', 'call', 'or', 'email', '<LINK>', '<LINK>']\n",
      "\n",
      "1/1 [==============================] - 0s 36ms/step\n"
     ]
    },
    {
     "name": "stderr",
     "output_type": "stream",
     "text": [
      "Found word not in word_index: word=kingkong\n"
     ]
    },
    {
     "name": "stdout",
     "output_type": "stream",
     "text": [
      "OK/OTP\n",
      "\n",
      "KINGKONG555 ไม่แตกเว็บอื่น มาลองเว็บเรา กำลังแจก https://bit.ly/kk557\n",
      "KINGKONG555 ไม่แตกเว็บอื่น มาลองเว็บเรา กำลังแจก <SHORT-LINK>\n",
      "['kingkong', 'ไม่', 'แตก', 'เว็บ', 'อื่น', 'มา', 'ลอง', 'เว็บ', 'เรา', 'กำลัง', 'แจก', '<SHORT-LINK>']\n",
      "\n",
      "1/1 [==============================] - 0s 37ms/step\n",
      "scam\n",
      "\n",
      "ปรับค่าแตกให้สูงกว่า เฉพาะสิ้นเดือนเท่านั้น คลิก bit.ly/3LeuScU\n",
      "ปรับค่าแตกให้สูงกว่า เฉพาะสิ้นเดือนเท่านั้น คลิก <SHORT-LINK>\n",
      "['ปรับ', 'ค่า', 'แตก', 'ให้', 'สูง', 'กว่า', 'เฉพาะ', 'สิ้นเดือน', 'เท่านั้น', 'คลิก', '<SHORT-LINK>']\n",
      "\n",
      "1/1 [==============================] - 0s 37ms/step\n"
     ]
    },
    {
     "name": "stderr",
     "output_type": "stream",
     "text": [
      "Found word not in word_index: word=pggold\n",
      "Found word not in word_index: word=เกรงใจ\n"
     ]
    },
    {
     "name": "stdout",
     "output_type": "stream",
     "text": [
      "scam\n",
      "\n",
      "PGGOLD แตกหนักไม่เกรงใจใคร ฝากมาเลย แตกจริง99% https://bit.ly/glo33\n",
      "PGGOLD แตกหนักไม่เกรงใจใคร ฝากมาเลย แตกจริง99% <SHORT-LINK>\n",
      "['pggold', 'แตก', 'หนัก', 'ไม่', 'เกรงใจ', 'ใคร', 'ฝาก', 'มา', 'เลย', 'แตก', 'จริง', '<SHORT-LINK>']\n",
      "\n",
      "1/1 [==============================] - 0s 37ms/step\n"
     ]
    },
    {
     "name": "stderr",
     "output_type": "stream",
     "text": [
      "Found word not in word_index: word=weplay\n"
     ]
    },
    {
     "name": "stdout",
     "output_type": "stream",
     "text": [
      "scam\n",
      "\n",
      "Weplay168 ไม่แตกเว็บอื่นมาลองเว็บเรากำลังแจก ด่วน https://bit.ly/wev33\n",
      "Weplay168 ไม่แตกเว็บอื่นมาลองเว็บเรากำลังแจก ด่วน <SHORT-LINK>\n",
      "['weplay', 'ไม่', 'แตก', 'เว็บ', 'อื่น', 'มา', 'ลอง', 'เว็บ', 'เรา', 'กำลัง', 'แจก', 'ด่วน', '<SHORT-LINK>']\n",
      "\n",
      "1/1 [==============================] - 0s 38ms/step\n",
      "scam\n",
      "\n",
      "ยูสใหม่โอกาสชนะกว่า90% เว็Uตรงไม่อั้นถอน https://bit.ly/pao13\n",
      "ยูสใหม่โอกาสชนะกว่า90% เว็Uตรงไม่อั้นถอน <SHORT-LINK>\n",
      "['ยูส', 'ใหม่', 'โอกาส', 'ชนะ', 'กว่า', 'เว็', 'u', 'ตรง', 'ไม่', 'อั้น', 'ถอน', '<SHORT-LINK>']\n",
      "\n",
      "1/1 [==============================] - 0s 40ms/step\n"
     ]
    },
    {
     "name": "stderr",
     "output_type": "stream",
     "text": [
      "Found word not in word_index: word=pao\n"
     ]
    },
    {
     "name": "stdout",
     "output_type": "stream",
     "text": [
      "scam\n",
      "\n",
      "ถอนกี่ครั้งก็ได้ ถอนได้ไม่อั้น เว็บตรง Pao168 https://bit.ly/pao13\n",
      "ถอนกี่ครั้งก็ได้ ถอนได้ไม่อั้น เว็บตรง Pao168 <SHORT-LINK>\n",
      "['ถอน', 'กี่', 'ครั้ง', 'ก็ได้', 'ถอน', 'ได้', 'ไม่', 'อั้น', 'เว็บ', 'ตรง', 'pao', '<SHORT-LINK>']\n",
      "\n",
      "1/1 [==============================] - 0s 39ms/step\n",
      "scam\n",
      "\n"
     ]
    }
   ],
   "source": [
    "for txt in examples:\n",
    "    sanitized_txt = textutils.sanitize_text(txt)\n",
    "    textrep_array = textutils.padded_seq_from_text(sanitized_txt, \n",
    "                                                config['word_index'], \n",
    "                                                config['max_length'], \n",
    "                                                ignore_err=True) \n",
    "    \n",
    "    print (txt)\n",
    "    print (sanitized_txt)\n",
    "    print (textutils.tokenize(sanitized_txt, clean=True))\n",
    "    print ()\n",
    "    \n",
    "    predictions = probability_model.predict([textrep_array])\n",
    "    predict = np.argmax(predictions[0])\n",
    "    \n",
    "    print (labels[predict])\n",
    "    print ()    "
   ]
  },
  {
   "cell_type": "code",
   "execution_count": 10,
   "id": "465f93ae-bccb-48d3-a5b5-0cafa336e31a",
   "metadata": {},
   "outputs": [
    {
     "name": "stderr",
     "output_type": "stream",
     "text": [
      "Found word not in word_index: word=idn\n"
     ]
    },
    {
     "name": "stdout",
     "output_type": "stream",
     "text": [
      "รหัส OTP สำหรับการยืนยันตัวตนของคุณสำหรับการใช้งาน GHB All คือ 318266 หมายเลขอ้างอิง IDN239S\n",
      "1/1 [==============================] - 0s 63ms/step\n"
     ]
    },
    {
     "name": "stderr",
     "output_type": "stream",
     "text": [
      "Found word not in word_index: word=idn\n"
     ]
    },
    {
     "name": "stdout",
     "output_type": "stream",
     "text": [
      "Dense_bow: OK/OTP [[0.5744364  0.21169758 0.21386595]]\n",
      "1/1 [==============================] - 0s 58ms/step\n"
     ]
    },
    {
     "name": "stderr",
     "output_type": "stream",
     "text": [
      "Found word not in word_index: word=idn\n"
     ]
    },
    {
     "name": "stdout",
     "output_type": "stream",
     "text": [
      "Dense_tfidf: OK/OTP [[0.5600077  0.21550079 0.22449152]]\n",
      "1/1 [==============================] - 0s 75ms/step\n"
     ]
    },
    {
     "name": "stderr",
     "output_type": "stream",
     "text": [
      "Found word not in word_index: word=idn\n"
     ]
    },
    {
     "name": "stdout",
     "output_type": "stream",
     "text": [
      "Dense_seqpad: OK/OTP [[0.5720187  0.21199755 0.21598378]]\n",
      "WARNING:tensorflow:5 out of the last 49 calls to <function Model.make_predict_function.<locals>.predict_function at 0x167f215e0> triggered tf.function retracing. Tracing is expensive and the excessive number of tracings could be due to (1) creating @tf.function repeatedly in a loop, (2) passing tensors with different shapes, (3) passing Python objects instead of tensors. For (1), please define your @tf.function outside of the loop. For (2), @tf.function has reduce_retracing=True option that can avoid unnecessary retracing. For (3), please refer to https://www.tensorflow.org/guide/function#controlling_retracing and https://www.tensorflow.org/api_docs/python/tf/function for  more details.\n",
      "1/1 [==============================] - 1s 1s/step\n",
      "BiLSTM_seqpad: OK/OTP [[0.47530815 0.17489627 0.17490861 0.174887  ]]\n",
      "\n",
      "คุณได้SMSนี้ รับ100฿ ไม่ต้องแชร์ คลิก https://llonp9.co/n/8cCwo5mB\n",
      "1/1 [==============================] - 0s 21ms/step\n",
      "Dense_bow: scam [[0.29388353 0.19754682 0.50856966]]\n",
      "1/1 [==============================] - 0s 25ms/step\n",
      "Dense_tfidf: scam [[0.27045342 0.20654875 0.52299786]]\n",
      "1/1 [==============================] - 0s 26ms/step\n",
      "Dense_seqpad: scam [[0.2772736  0.24228567 0.4804407 ]]\n",
      "1/1 [==============================] - 0s 30ms/step\n",
      "BiLSTM_seqpad: scam [[0.18929154 0.17929052 0.4532116  0.17820631]]\n",
      "\n",
      "รหัส OTP เพื่อยืนยันการปรับวงเงินการทำรายการรายวันของคุณคือ 97032 ห้ามบอกรหัสนี้แก่บุคคลอื่น\n",
      "1/1 [==============================] - 0s 20ms/step\n",
      "Dense_bow: OK/OTP [[0.56761914 0.20911019 0.22327065]]\n",
      "1/1 [==============================] - 0s 20ms/step\n",
      "Dense_tfidf: OK/OTP [[0.54652834 0.21512076 0.23835082]]\n",
      "1/1 [==============================] - 0s 21ms/step\n",
      "Dense_seqpad: OK/OTP [[0.57216763 0.21151905 0.21631336]]\n",
      "1/1 [==============================] - 0s 31ms/step\n",
      "BiLSTM_seqpad: OK/OTP [[0.4752361  0.17491095 0.17495458 0.17489839]]\n",
      "\n",
      "มีการเปิดใช้งาน (Activate) MyMo เมื่อวันที่ 20/08/64 เวลา 14.32 น. หากท่านไม่ได้ทำรายการโปรดติดต่อ 1143 ทันที\n",
      "1/1 [==============================] - 0s 20ms/step\n",
      "Dense_bow: OK/OTP [[0.5686952  0.21169682 0.21960802]]\n",
      "1/1 [==============================] - 0s 20ms/step\n",
      "Dense_tfidf: OK/OTP [[0.5528295  0.21782093 0.22934964]]\n",
      "1/1 [==============================] - 0s 21ms/step\n",
      "Dense_seqpad: OK/OTP [[0.5544597  0.21353972 0.23200065]]\n",
      "1/1 [==============================] - 0s 37ms/step\n"
     ]
    },
    {
     "name": "stderr",
     "output_type": "stream",
     "text": [
      "Found word not in word_index: word=wtt\n"
     ]
    },
    {
     "name": "stdout",
     "output_type": "stream",
     "text": [
      "BiLSTM_seqpad: OK/OTP [[0.47506133 0.17497022 0.17504248 0.17492603]]\n",
      "\n",
      "เนื่องจากคุณเป็นผู้ใช้ติ๊กต็อกที่มีประวัติที่ดี คุณได้รับเงินสดจากทาง ติ๊กต็อก แอดLine: wtt9\n",
      "1/1 [==============================] - 0s 24ms/step\n"
     ]
    },
    {
     "name": "stderr",
     "output_type": "stream",
     "text": [
      "Found word not in word_index: word=wtt\n"
     ]
    },
    {
     "name": "stdout",
     "output_type": "stream",
     "text": [
      "Dense_bow: scam [[0.3420726  0.18062574 0.4773016 ]]\n",
      "1/1 [==============================] - 0s 22ms/step\n"
     ]
    },
    {
     "name": "stderr",
     "output_type": "stream",
     "text": [
      "Found word not in word_index: word=wtt\n"
     ]
    },
    {
     "name": "stdout",
     "output_type": "stream",
     "text": [
      "Dense_tfidf: scam [[0.29070917 0.20714581 0.50214505]]\n",
      "1/1 [==============================] - 0s 22ms/step\n"
     ]
    },
    {
     "name": "stderr",
     "output_type": "stream",
     "text": [
      "Found word not in word_index: word=wtt\n"
     ]
    },
    {
     "name": "stdout",
     "output_type": "stream",
     "text": [
      "Dense_seqpad: scam [[0.25027263 0.22101967 0.5287077 ]]\n",
      "1/1 [==============================] - 0s 33ms/step\n"
     ]
    },
    {
     "name": "stderr",
     "output_type": "stream",
     "text": [
      "Found word not in word_index: word=mw\n",
      "Found word not in word_index: word=st\n",
      "Found word not in word_index: word=delivered\n",
      "Found word not in word_index: word=mw\n",
      "Found word not in word_index: word=st\n",
      "Found word not in word_index: word=between\n"
     ]
    },
    {
     "name": "stdout",
     "output_type": "stream",
     "text": [
      "BiLSTM_seqpad: scam [[0.17593211 0.1756286  0.47322154 0.17521772]]\n",
      "\n",
      "รายการสั่งซื้อของท่าน IKEA หมายเลข W017-21112221 ของท่านจะถูกจัดส่งโดย MW_ST9997 STORE ในวันที่ 19-01-2023  ในช่วงเวลา  09:00 -12:00.หากมีข้อสงสัยกรุณาสอบถาม 02 708 7999 หรือ อีเมล์ customerrelations.ikeath@ikano.asia.Your IKEA order W017-21112221 will be delivered by MW_ST9997 STORE on 19-01-2023  between  09:00 -12:00.Need help Call 02 708 7999 or email customerrelations.ikeath@ikano.asia\n",
      "1/1 [==============================] - 0s 23ms/step\n"
     ]
    },
    {
     "name": "stderr",
     "output_type": "stream",
     "text": [
      "Found word not in word_index: word=mw\n",
      "Found word not in word_index: word=st\n",
      "Found word not in word_index: word=delivered\n",
      "Found word not in word_index: word=mw\n",
      "Found word not in word_index: word=st\n",
      "Found word not in word_index: word=between\n"
     ]
    },
    {
     "name": "stdout",
     "output_type": "stream",
     "text": [
      "Dense_bow: OK/OTP [[0.5483633  0.20403534 0.24760135]]\n",
      "1/1 [==============================] - 0s 22ms/step\n"
     ]
    },
    {
     "name": "stderr",
     "output_type": "stream",
     "text": [
      "Found word not in word_index: word=mw\n",
      "Found word not in word_index: word=st\n",
      "Found word not in word_index: word=delivered\n",
      "Found word not in word_index: word=mw\n",
      "Found word not in word_index: word=st\n",
      "Found word not in word_index: word=between\n"
     ]
    },
    {
     "name": "stdout",
     "output_type": "stream",
     "text": [
      "Dense_tfidf: OK/OTP [[0.48594567 0.20663096 0.30742338]]\n",
      "1/1 [==============================] - 0s 25ms/step\n"
     ]
    },
    {
     "name": "stderr",
     "output_type": "stream",
     "text": [
      "Found word not in word_index: word=mw\n",
      "Found word not in word_index: word=st\n",
      "Found word not in word_index: word=delivered\n",
      "Found word not in word_index: word=mw\n",
      "Found word not in word_index: word=st\n",
      "Found word not in word_index: word=between\n"
     ]
    },
    {
     "name": "stdout",
     "output_type": "stream",
     "text": [
      "Dense_seqpad: OK/OTP [[0.53841907 0.22041664 0.24116433]]\n",
      "1/1 [==============================] - 0s 39ms/step\n"
     ]
    },
    {
     "name": "stderr",
     "output_type": "stream",
     "text": [
      "Found word not in word_index: word=kingkong\n"
     ]
    },
    {
     "name": "stdout",
     "output_type": "stream",
     "text": [
      "BiLSTM_seqpad: OK/OTP [[0.47465596 0.17516764 0.17518628 0.17499006]]\n",
      "\n",
      "KINGKONG555 ไม่แตกเว็บอื่น มาลองเว็บเรา กำลังแจก https://bit.ly/kk557\n",
      "1/1 [==============================] - 0s 22ms/step\n"
     ]
    },
    {
     "name": "stderr",
     "output_type": "stream",
     "text": [
      "Found word not in word_index: word=kingkong\n"
     ]
    },
    {
     "name": "stdout",
     "output_type": "stream",
     "text": [
      "Dense_bow: scam [[0.22712512 0.21161948 0.5612554 ]]\n",
      "1/1 [==============================] - 0s 22ms/step\n"
     ]
    },
    {
     "name": "stderr",
     "output_type": "stream",
     "text": [
      "Found word not in word_index: word=kingkong\n"
     ]
    },
    {
     "name": "stdout",
     "output_type": "stream",
     "text": [
      "Dense_tfidf: scam [[0.21738745 0.21484917 0.5677633 ]]\n",
      "1/1 [==============================] - 0s 25ms/step\n"
     ]
    },
    {
     "name": "stderr",
     "output_type": "stream",
     "text": [
      "Found word not in word_index: word=kingkong\n"
     ]
    },
    {
     "name": "stdout",
     "output_type": "stream",
     "text": [
      "Dense_seqpad: scam [[0.21323934 0.22664694 0.5601137 ]]\n",
      "1/1 [==============================] - 0s 27ms/step\n",
      "BiLSTM_seqpad: scam [[0.17495796 0.17493235 0.47520652 0.17490321]]\n",
      "\n",
      "ปรับค่าแตกให้สูงกว่า เฉพาะสิ้นเดือนเท่านั้น คลิก bit.ly/3LeuScU\n",
      "1/1 [==============================] - 0s 22ms/step\n",
      "Dense_bow: spam [[0.17864485 0.4174887  0.40386647]]\n",
      "1/1 [==============================] - 0s 21ms/step\n",
      "Dense_tfidf: spam [[0.17953049 0.42565843 0.3948111 ]]\n",
      "1/1 [==============================] - 0s 24ms/step\n",
      "Dense_seqpad: scam [[0.19836089 0.3476806  0.45395854]]\n",
      "1/1 [==============================] - 0s 27ms/step\n"
     ]
    },
    {
     "name": "stderr",
     "output_type": "stream",
     "text": [
      "Found word not in word_index: word=pggold\n",
      "Found word not in word_index: word=เกรงใจ\n"
     ]
    },
    {
     "name": "stdout",
     "output_type": "stream",
     "text": [
      "BiLSTM_seqpad: scam [[0.17606801 0.17969036 0.46825653 0.17598514]]\n",
      "\n",
      "PGGOLD แตกหนักไม่เกรงใจใคร ฝากมาเลย แตกจริง99% https://bit.ly/glo33\n",
      "1/1 [==============================] - 0s 24ms/step\n"
     ]
    },
    {
     "name": "stderr",
     "output_type": "stream",
     "text": [
      "Found word not in word_index: word=pggold\n",
      "Found word not in word_index: word=เกรงใจ\n"
     ]
    },
    {
     "name": "stdout",
     "output_type": "stream",
     "text": [
      "Dense_bow: scam [[0.20971733 0.23784539 0.5524373 ]]\n",
      "1/1 [==============================] - 0s 31ms/step\n"
     ]
    },
    {
     "name": "stderr",
     "output_type": "stream",
     "text": [
      "Found word not in word_index: word=pggold\n",
      "Found word not in word_index: word=เกรงใจ\n"
     ]
    },
    {
     "name": "stdout",
     "output_type": "stream",
     "text": [
      "Dense_tfidf: scam [[0.20957264 0.23664983 0.5537776 ]]\n",
      "1/1 [==============================] - 0s 20ms/step\n"
     ]
    },
    {
     "name": "stderr",
     "output_type": "stream",
     "text": [
      "Found word not in word_index: word=pggold\n",
      "Found word not in word_index: word=เกรงใจ\n"
     ]
    },
    {
     "name": "stdout",
     "output_type": "stream",
     "text": [
      "Dense_seqpad: scam [[0.20528217 0.25942722 0.53529066]]\n",
      "1/1 [==============================] - 0s 30ms/step\n"
     ]
    },
    {
     "name": "stderr",
     "output_type": "stream",
     "text": [
      "Found word not in word_index: word=weplay\n"
     ]
    },
    {
     "name": "stdout",
     "output_type": "stream",
     "text": [
      "BiLSTM_seqpad: scam [[0.1749099  0.17494404 0.47524965 0.17489634]]\n",
      "\n",
      "Weplay168 ไม่แตกเว็บอื่นมาลองเว็บเรากำลังแจก ด่วน https://bit.ly/wev33\n",
      "1/1 [==============================] - 0s 23ms/step\n"
     ]
    },
    {
     "name": "stderr",
     "output_type": "stream",
     "text": [
      "Found word not in word_index: word=weplay\n"
     ]
    },
    {
     "name": "stdout",
     "output_type": "stream",
     "text": [
      "Dense_bow: scam [[0.2195576  0.21254016 0.56790227]]\n",
      "1/1 [==============================] - 0s 21ms/step\n"
     ]
    },
    {
     "name": "stderr",
     "output_type": "stream",
     "text": [
      "Found word not in word_index: word=weplay\n"
     ]
    },
    {
     "name": "stdout",
     "output_type": "stream",
     "text": [
      "Dense_tfidf: scam [[0.21517609 0.21525839 0.56956553]]\n",
      "1/1 [==============================] - 0s 21ms/step\n"
     ]
    },
    {
     "name": "stderr",
     "output_type": "stream",
     "text": [
      "Found word not in word_index: word=weplay\n"
     ]
    },
    {
     "name": "stdout",
     "output_type": "stream",
     "text": [
      "Dense_seqpad: scam [[0.21086577 0.22591908 0.5632151 ]]\n",
      "1/1 [==============================] - 0s 31ms/step\n",
      "BiLSTM_seqpad: scam [[0.17491718 0.17492041 0.4752691  0.17489327]]\n",
      "\n",
      "ยูสใหม่โอกาสชนะกว่า90% เว็Uตรงไม่อั้นถอน https://bit.ly/pao13\n",
      "1/1 [==============================] - 0s 21ms/step\n",
      "Dense_bow: scam [[0.22184023 0.2134783  0.5646815 ]]\n",
      "1/1 [==============================] - 0s 22ms/step\n",
      "Dense_tfidf: scam [[0.21554907 0.22164102 0.5628099 ]]\n",
      "1/1 [==============================] - 0s 24ms/step\n",
      "Dense_seqpad: scam [[0.2116164  0.24804391 0.54033965]]\n",
      "1/1 [==============================] - 0s 32ms/step\n"
     ]
    },
    {
     "name": "stderr",
     "output_type": "stream",
     "text": [
      "Found word not in word_index: word=pao\n"
     ]
    },
    {
     "name": "stdout",
     "output_type": "stream",
     "text": [
      "BiLSTM_seqpad: scam [[0.17493851 0.17506222 0.4750753  0.17492403]]\n",
      "\n",
      "ถอนกี่ครั้งก็ได้ ถอนได้ไม่อั้น เว็บตรง Pao168 https://bit.ly/pao13\n",
      "1/1 [==============================] - 0s 20ms/step\n"
     ]
    },
    {
     "name": "stderr",
     "output_type": "stream",
     "text": [
      "Found word not in word_index: word=pao\n"
     ]
    },
    {
     "name": "stdout",
     "output_type": "stream",
     "text": [
      "Dense_bow: scam [[0.23063047 0.20982653 0.559543  ]]\n",
      "1/1 [==============================] - 0s 22ms/step\n"
     ]
    },
    {
     "name": "stderr",
     "output_type": "stream",
     "text": [
      "Found word not in word_index: word=pao\n"
     ]
    },
    {
     "name": "stdout",
     "output_type": "stream",
     "text": [
      "Dense_tfidf: scam [[0.21713078 0.21621655 0.5666527 ]]\n",
      "1/1 [==============================] - 0s 21ms/step\n"
     ]
    },
    {
     "name": "stderr",
     "output_type": "stream",
     "text": [
      "Found word not in word_index: word=pao\n"
     ]
    },
    {
     "name": "stdout",
     "output_type": "stream",
     "text": [
      "Dense_seqpad: scam [[0.2151943  0.22693925 0.55786645]]\n",
      "1/1 [==============================] - 0s 28ms/step\n",
      "BiLSTM_seqpad: scam [[0.17497379 0.17497012 0.4751427  0.17491339]]\n",
      "\n"
     ]
    }
   ],
   "source": [
    "def load_model(filepath):\n",
    "    model = models.load_model(filepath)\n",
    "    return tf.keras.Sequential([model, \n",
    "                                tf.keras.layers.Softmax()])\n",
    "\n",
    "deep_models = {\n",
    "    'Dense_bow': load_model('models/Dense_bow.h5'),\n",
    "    'Dense_tfidf': load_model('models/Dense_tfidf.h5'),\n",
    "    'Dense_seqpad': load_model('models/Dense_seqpad.h5'),\n",
    "    'BiLSTM_seqpad': load_model('models/BiLSTM_seqpad.h5'),\n",
    "    \n",
    "}\n",
    "for txt in examples:\n",
    "    \n",
    "    print (txt)    \n",
    "    sanitized_txt = textutils.sanitize_text(txt)\n",
    "    \n",
    "    for model_name in deep_models:\n",
    "        prob_model    = None\n",
    "        textrep_array = None\n",
    "        \n",
    "        if model_name.endswith('bow'):\n",
    "            textrep_array = textutils.bow_array_from_text(sanitized_txt,\n",
    "                                                          config['word_index'],\n",
    "                                                          ignore_err=True)\n",
    "\n",
    "            \n",
    "        elif model_name.endswith('tfidf'):\n",
    "            textrep_array = textutils.tfidf_array_from_text(sanitized_txt,\n",
    "                                                            config['word_index'],\n",
    "                                                            config['idf_values'],\n",
    "                                                            ignore_err=True)\n",
    "        elif model_name.endswith('seqpad'):\n",
    "            textrep_array = textutils.padded_seq_from_text(sanitized_txt, \n",
    "                                                        config['word_index'], \n",
    "                                                        config['max_length'], \n",
    "                                                        ignore_err=True)\n",
    "        \n",
    "        \n",
    "        \n",
    "        prob_model = deep_models[model_name]\n",
    "        predictions = prob_model.predict(np.array([textrep_array]))\n",
    "        predict = np.argmax(predictions[0])\n",
    "        \n",
    "        print (f'{model_name}: {labels[predict]} {predictions}')  \n",
    "\n",
    "    print ()"
   ]
  },
  {
   "cell_type": "code",
   "execution_count": null,
   "id": "2c166d57-06f0-4c4e-9da8-afd0def3fbbb",
   "metadata": {},
   "outputs": [],
   "source": []
  }
 ],
 "metadata": {
  "kernelspec": {
   "display_name": "Python 3 (ipykernel)",
   "language": "python",
   "name": "python3"
  },
  "language_info": {
   "codemirror_mode": {
    "name": "ipython",
    "version": 3
   },
   "file_extension": ".py",
   "mimetype": "text/x-python",
   "name": "python",
   "nbconvert_exporter": "python",
   "pygments_lexer": "ipython3",
   "version": "3.9.15"
  }
 },
 "nbformat": 4,
 "nbformat_minor": 5
}
